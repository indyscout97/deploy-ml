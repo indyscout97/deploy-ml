{
 "cells": [
  {
   "cell_type": "code",
   "execution_count": 2,
   "id": "036c7ce1",
   "metadata": {},
   "outputs": [],
   "source": [
    "import pandas as pd\n",
    "from sklearn.pipeline import Pipeline\n",
    "from sklearn.ensemble import RandomForestClassifier\n",
    "from sklearn.model_selection import train_test_split\n",
    "import pickle"
   ]
  },
  {
   "cell_type": "code",
   "execution_count": 3,
   "id": "2464396d",
   "metadata": {},
   "outputs": [],
   "source": [
    "dataRaw = pd.read_csv('https://raw.githubusercontent.com/jwaldroop/phishing-url-project/main/dataset_full.csv')"
   ]
  },
  {
   "cell_type": "code",
   "execution_count": 4,
   "id": "b2643eca",
   "metadata": {},
   "outputs": [],
   "source": [
    "# Noticed a discrepancy in the data, some values are recorded as -1 even though it makes not practical sense, i.e. you can't have a negative quantity of a character\n",
    "# This changes all -1 to 0\n",
    "\n",
    "def remove_negatives(df):\n",
    "    df[df == -1] = 0"
   ]
  },
  {
   "cell_type": "code",
   "execution_count": 5,
   "id": "170d2d3d",
   "metadata": {
    "tags": []
   },
   "outputs": [],
   "source": [
    "Features = dataRaw.iloc[:,:-1] # target is in last column\n",
    "X = Features\n",
    "y = dataRaw['phishing']\n",
    "\n",
    "# creating pipelined model\n",
    "pipe = Pipeline([('no_negatives' , remove_negatives(X)) , ('RF' , RandomForestClassifier(n_jobs = -1, verbose = False, n_estimators = 200 , random_state = 426, max_depth = 15))])"
   ]
  },
  {
   "cell_type": "code",
   "execution_count": 6,
   "id": "2d0e716c",
   "metadata": {},
   "outputs": [],
   "source": [
    "# Splitting data\n",
    "X_train, X_test, y_train, y_test = train_test_split(X , y, random_state = 0)"
   ]
  },
  {
   "cell_type": "code",
   "execution_count": 7,
   "id": "5b2cc40b",
   "metadata": {},
   "outputs": [
    {
     "data": {
      "text/plain": [
       "Pipeline(steps=[('no_negatives', None),\n",
       "                ('RF',\n",
       "                 RandomForestClassifier(max_depth=15, n_estimators=200,\n",
       "                                        n_jobs=-1, random_state=426,\n",
       "                                        verbose=False))])"
      ]
     },
     "execution_count": 7,
     "metadata": {},
     "output_type": "execute_result"
    }
   ],
   "source": [
    "# fitting the pipeline\n",
    "pipe.fit(X_train, y_train)"
   ]
  },
  {
   "cell_type": "code",
   "execution_count": null,
   "id": "4f7f22ff",
   "metadata": {},
   "outputs": [],
   "source": [
    "# Pickling the fitted pipeline\n",
    "with open('model.pkl' , 'wb') as f:\n",
    "    # pickle the data dictionary using the highest protocol availabe\n",
    "    pickle.dump(pipe, f, pickle.HIGHEST_PROTOCOL)"
   ]
  },
  {
   "cell_type": "code",
   "execution_count": 27,
   "id": "905f39d7",
   "metadata": {
    "tags": []
   },
   "outputs": [],
   "source": [
    "# Grabbing a couple rows to test the pickled model\n",
    "newdata = dataRaw.iloc[55:66,:-1]\n",
    "newdata = newdata.values.tolist() # save this list as its own varaible in a seperate .py file. \n",
    "#newdata"
   ]
  },
  {
   "cell_type": "code",
   "execution_count": 28,
   "id": "76469962",
   "metadata": {},
   "outputs": [],
   "source": [
    "import json\n",
    "with open('newdata.json', 'w') as f:\n",
    "  json.dump(newdata, f)"
   ]
  },
  {
   "cell_type": "code",
   "execution_count": 20,
   "id": "cf2d6514",
   "metadata": {},
   "outputs": [],
   "source": [
    "lmao = {'a' : 69}"
   ]
  }
 ],
 "metadata": {
  "kernelspec": {
   "display_name": "Python 3",
   "language": "python",
   "name": "python3"
  },
  "language_info": {
   "codemirror_mode": {
    "name": "ipython",
    "version": 3
   },
   "file_extension": ".py",
   "mimetype": "text/x-python",
   "name": "python",
   "nbconvert_exporter": "python",
   "pygments_lexer": "ipython3",
   "version": "3.8.5"
  }
 },
 "nbformat": 4,
 "nbformat_minor": 5
}
