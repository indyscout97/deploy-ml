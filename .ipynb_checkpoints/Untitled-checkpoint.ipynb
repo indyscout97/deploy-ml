{
 "cells": [
  {
   "cell_type": "code",
   "execution_count": 6,
   "id": "9e048442",
   "metadata": {},
   "outputs": [],
   "source": [
    "import pandas as pd\n",
    "from sklearn.pipeline import Pipeline\n",
    "from sklearn.ensemble import RandomForestClassifier\n",
    "from sklearn.model_selection import train_test_split\n",
    "import pickle"
   ]
  },
  {
   "cell_type": "code",
   "execution_count": 4,
   "id": "c2427d5e",
   "metadata": {},
   "outputs": [],
   "source": [
    "dataRaw = pd.read_csv('https://raw.githubusercontent.com/jwaldroop/phishing-url-project/main/dataset_full.csv')"
   ]
  },
  {
   "cell_type": "code",
   "execution_count": 5,
   "id": "3e9f1522",
   "metadata": {},
   "outputs": [],
   "source": [
    "# Noticed a discrepancy in the data, some values are recorded as -1 even though it makes not practical sense, i.e. you can't have a negative quantity of a character\n",
    "# This changes all -1 to 0\n",
    "\n",
    "def remove_negatives(df):\n",
    "    df[df == -1] = 0"
   ]
  },
  {
   "cell_type": "code",
   "execution_count": 7,
   "id": "0d743b25",
   "metadata": {
    "tags": []
   },
   "outputs": [],
   "source": [
    "Features = dataRaw.iloc[:,:-1] # target is in last column\n",
    "X = Features\n",
    "y = dataRaw['phishing']\n",
    "\n",
    "pipe = Pipeline([('no_negatives' , remove_negatives(X)) , ('RF' , RandomForestClassifier(n_jobs = -1, verbose = False, n_estimators = 200 , random_state = 426, max_depth = 15))])"
   ]
  },
  {
   "cell_type": "code",
   "execution_count": 8,
   "id": "e9c9a2db",
   "metadata": {},
   "outputs": [],
   "source": [
    "X_train, X_test, y_train, y_test = train_test_split(X , y, random_state = 0)"
   ]
  },
  {
   "cell_type": "code",
   "execution_count": 9,
   "id": "3e1369bb",
   "metadata": {},
   "outputs": [
    {
     "data": {
      "text/plain": [
       "Pipeline(steps=[('no_negatives', None),\n",
       "                ('RF',\n",
       "                 RandomForestClassifier(max_depth=15, n_estimators=200,\n",
       "                                        n_jobs=-1, random_state=426,\n",
       "                                        verbose=False))])"
      ]
     },
     "execution_count": 9,
     "metadata": {},
     "output_type": "execute_result"
    }
   ],
   "source": [
    "pipe.fit(X_train, y_train)"
   ]
  },
  {
   "cell_type": "code",
   "execution_count": 6,
   "id": "00a19762",
   "metadata": {},
   "outputs": [],
   "source": [
    "with open('clf.pickle' , 'wb') as f:\n",
    "    # pickle the data dictionary using the highest protocol availabe\n",
    "    pickle.dump(pipe, f, pickle.HIGHEST_PROTOCOL)"
   ]
  }
 ],
 "metadata": {
  "kernelspec": {
   "display_name": "Python 3",
   "language": "python",
   "name": "python3"
  },
  "language_info": {
   "codemirror_mode": {
    "name": "ipython",
    "version": 3
   },
   "file_extension": ".py",
   "mimetype": "text/x-python",
   "name": "python",
   "nbconvert_exporter": "python",
   "pygments_lexer": "ipython3",
   "version": "3.8.5"
  }
 },
 "nbformat": 4,
 "nbformat_minor": 5
}
